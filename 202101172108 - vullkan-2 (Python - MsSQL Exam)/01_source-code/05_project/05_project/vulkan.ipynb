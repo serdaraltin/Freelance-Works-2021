{
 "cells": [
  {
   "cell_type": "code",
   "execution_count": 11,
   "metadata": {},
   "outputs": [],
   "source": [
    "#bağlantı modülü\n",
    "import pymssql\n",
    "#bağlantı bilgileri\n",
    "_server=\"\"\n",
    "_database=\"cargo2\"\n",
    "_user=\"\"\n",
    "_pass=\"\"\n",
    "conn = pymssql.connect(server=_server, user=_user, password=_pass, database=_database)\n",
    "#işlemler için imleç tanımı\n",
    "cursor = conn.cursor()"
   ]
  },
  {
   "cell_type": "code",
   "execution_count": 12,
   "metadata": {},
   "outputs": [],
   "source": [
    "#1 - Customer tablosunun oluşturulması\n",
    "cursor.execute(\"\"\"\n",
    "CREATE TABLE [dbo].[Customer](\n",
    "\t[C_ID] [int] IDENTITY(1,1) NOT NULL,\n",
    "\t[F_ID] [int] NULL,\n",
    "\t[A_M_ID] [int] NULL,\n",
    "\t[C_Name] [varchar](50) NULL,\n",
    "\t[C_Address] [text] NULL,\n",
    "\t[C_Number] [varchar](50) NULL,\n",
    "\t[C_Email] [varchar](50) NULL,\n",
    " CONSTRAINT [PK_Customer] PRIMARY KEY CLUSTERED \n",
    "(\n",
    "\t[C_ID] ASC\n",
    ")WITH (PAD_INDEX = OFF, STATISTICS_NORECOMPUTE = OFF, IGNORE_DUP_KEY = OFF, ALLOW_ROW_LOCKS = ON, ALLOW_PAGE_LOCKS = ON) ON [PRIMARY]\n",
    ") ON [PRIMARY] TEXTIMAGE_ON [PRIMARY]\n",
    "\"\"\")\n",
    "conn.commit()"
   ]
  },
  {
   "cell_type": "code",
   "execution_count": 13,
   "metadata": {},
   "outputs": [],
   "source": [
    "#2 - Feedback tablosunun oluşturulması\n",
    "cursor.execute(\"\"\"CREATE TABLE [dbo].[Feedback](\n",
    "\t[F_ID] [int] IDENTITY(1,1) NOT NULL,\n",
    "\t[F_Name] [varchar](50) NULL,\n",
    "\t[F_EMail] [varchar](50) NULL,\n",
    "\t[F_Message] [varchar](100) NULL,\n",
    " CONSTRAINT [PK_Feedback] PRIMARY KEY CLUSTERED \n",
    "(\n",
    "\t[F_ID] ASC\n",
    ")WITH (PAD_INDEX = OFF, STATISTICS_NORECOMPUTE = OFF, IGNORE_DUP_KEY = OFF, ALLOW_ROW_LOCKS = ON, ALLOW_PAGE_LOCKS = ON) ON [PRIMARY]\n",
    ") ON [PRIMARY]\"\"\")\n",
    "conn.commit()"
   ]
  },
  {
   "cell_type": "code",
   "execution_count": 14,
   "metadata": {},
   "outputs": [],
   "source": [
    "#3 - Cargo_Location tablosunun oluşturulması\n",
    "cursor.execute(\"\"\"CREATE TABLE [dbo].[Cargo_Location](\n",
    "\t[CL_ID] [int] IDENTITY(1,1) NOT NULL,\n",
    "\t[CL_Location] [text] NULL,\n",
    " CONSTRAINT [PK_Cargo_Location] PRIMARY KEY CLUSTERED \n",
    "(\n",
    "\t[CL_ID] ASC\n",
    ")WITH (PAD_INDEX = OFF, STATISTICS_NORECOMPUTE = OFF, IGNORE_DUP_KEY = OFF, ALLOW_ROW_LOCKS = ON, ALLOW_PAGE_LOCKS = ON) ON [PRIMARY]\n",
    ") ON [PRIMARY] TEXTIMAGE_ON [PRIMARY]\"\"\")\n",
    "conn.commit()"
   ]
  },
  {
   "cell_type": "code",
   "execution_count": 15,
   "metadata": {},
   "outputs": [],
   "source": [
    "#4 - Cargo_detail tablosunun oluşturulması\n",
    "cursor.execute(\"\"\"CREATE TABLE [dbo].[Cargo_Detail](\n",
    "\t[Cargo_ID] [int] IDENTITY(1,1) NOT NULL,\n",
    "\t[Cargo_Product] [varchar](50) NULL,\n",
    "\t[Cargo_Detail] [text] NULL,\n",
    " CONSTRAINT [PK_Cargo_Detail] PRIMARY KEY CLUSTERED \n",
    "(\n",
    "\t[Cargo_ID] ASC\n",
    ")WITH (PAD_INDEX = OFF, STATISTICS_NORECOMPUTE = OFF, IGNORE_DUP_KEY = OFF, ALLOW_ROW_LOCKS = ON, ALLOW_PAGE_LOCKS = ON) ON [PRIMARY]\n",
    ") ON [PRIMARY] TEXTIMAGE_ON [PRIMARY]\"\"\")\n",
    "conn.commit()"
   ]
  },
  {
   "cell_type": "code",
   "execution_count": 16,
   "metadata": {},
   "outputs": [],
   "source": [
    "#5 - Payment tablosunun oluşturulması\n",
    "cursor.execute(\"\"\"CREATE TABLE [dbo].[Payment](\n",
    "\t[P_ID] [int] IDENTITY(1,1) NOT NULL,\n",
    "\t[C_ID] [int] NULL,\n",
    "\t[Payment_Type] [varchar](50) NULL,\n",
    "\t[Payment_Detail] [varchar](50) NULL,\n",
    " CONSTRAINT [PK_Payment] PRIMARY KEY CLUSTERED \n",
    "(\n",
    "\t[P_ID] ASC\n",
    ")WITH (PAD_INDEX = OFF, STATISTICS_NORECOMPUTE = OFF, IGNORE_DUP_KEY = OFF, ALLOW_ROW_LOCKS = ON, ALLOW_PAGE_LOCKS = ON) ON [PRIMARY]\n",
    ") ON [PRIMARY]\"\"\")\n",
    "conn.commit()"
   ]
  },
  {
   "cell_type": "code",
   "execution_count": 17,
   "metadata": {},
   "outputs": [],
   "source": [
    "#6 - Admin_Message_Detail tablosunun oluşturulması\n",
    "cursor.execute(\"\"\"CREATE TABLE [dbo].[Admin_Message_Detail](\n",
    "\t[A_M_ID] [int] IDENTITY(1,1) NOT NULL,\n",
    "\t[A_M_Name] [varchar](50) NULL,\n",
    "\t[A_M_Type] [varchar](50) NULL,\n",
    "\t[A_M_Message] [text] NULL,\n",
    " CONSTRAINT [PK_Adim_Message_Detail] PRIMARY KEY CLUSTERED \n",
    "(\n",
    "\t[A_M_ID] ASC\n",
    ")WITH (PAD_INDEX = OFF, STATISTICS_NORECOMPUTE = OFF, IGNORE_DUP_KEY = OFF, ALLOW_ROW_LOCKS = ON, ALLOW_PAGE_LOCKS = ON) ON [PRIMARY]\n",
    ") ON [PRIMARY] TEXTIMAGE_ON [PRIMARY]\"\"\")\n",
    "conn.commit()"
   ]
  },
  {
   "cell_type": "code",
   "execution_count": 18,
   "metadata": {},
   "outputs": [],
   "source": [
    "#7 - Admin tablosunun oluşturulması\n",
    "cursor.execute(\"\"\"CREATE TABLE [dbo].[Admin](\n",
    "\t[A_ID] [int] IDENTITY(1,1) NOT NULL,\n",
    "\t[A_Name] [varchar](50) NULL,\n",
    "\t[A_Email] [varchar](50) NULL,\n",
    "\t[A_Number] [varchar](50) NULL,\n",
    "\t[A_Password] [varchar](50) NULL,\n",
    " CONSTRAINT [PK_Admin] PRIMARY KEY CLUSTERED \n",
    "(\n",
    "\t[A_ID] ASC\n",
    ")WITH (PAD_INDEX = OFF, STATISTICS_NORECOMPUTE = OFF, IGNORE_DUP_KEY = OFF, ALLOW_ROW_LOCKS = ON, ALLOW_PAGE_LOCKS = ON) ON [PRIMARY]\n",
    ") ON [PRIMARY]\"\"\")\n",
    "conn.commit()"
   ]
  },
  {
   "cell_type": "code",
   "execution_count": 19,
   "metadata": {},
   "outputs": [],
   "source": [
    "#8 - Company tablosunun oluşturulması\n",
    "cursor.execute(\"\"\"CREATE TABLE [dbo].[Company](\n",
    "\t[Company_ID] [int] IDENTITY(1,1) NOT NULL,\n",
    "\t[Company_Address] [text] NULL,\n",
    "\t[Company_Number] [varchar](50) NULL,\n",
    "\t[Company_Mail] [varchar](50) NULL,\n",
    " CONSTRAINT [PK_Company] PRIMARY KEY CLUSTERED \n",
    "(\n",
    "\t[Company_ID] ASC\n",
    ")WITH (PAD_INDEX = OFF, STATISTICS_NORECOMPUTE = OFF, IGNORE_DUP_KEY = OFF, ALLOW_ROW_LOCKS = ON, ALLOW_PAGE_LOCKS = ON) ON [PRIMARY]\n",
    ") ON [PRIMARY] TEXTIMAGE_ON [PRIMARY]\"\"\")\n",
    "conn.commit()"
   ]
  },
  {
   "cell_type": "code",
   "execution_count": 20,
   "metadata": {},
   "outputs": [],
   "source": [
    "#9 - Customer_Message_Detail tablosunun oluşturulması\n",
    "cursor.execute(\"\"\"CREATE TABLE [dbo].[Customer_Message_Detail](\n",
    "\t[C_M_ID] [int] IDENTITY(1,1) NOT NULL,\n",
    "\t[C_M_Name] [varchar](50) NULL,\n",
    "\t[C_M_Message] [text] NULL,\n",
    " CONSTRAINT [PK_Customer_Message_Detail] PRIMARY KEY CLUSTERED \n",
    "(\n",
    "\t[C_M_ID] ASC\n",
    ")WITH (PAD_INDEX = OFF, STATISTICS_NORECOMPUTE = OFF, IGNORE_DUP_KEY = OFF, ALLOW_ROW_LOCKS = ON, ALLOW_PAGE_LOCKS = ON) ON [PRIMARY]\n",
    ") ON [PRIMARY] TEXTIMAGE_ON [PRIMARY]\"\"\")\n",
    "conn.commit()"
   ]
  },
  {
   "cell_type": "code",
   "execution_count": 21,
   "metadata": {},
   "outputs": [
    {
     "name": "stdout",
     "output_type": "stream",
     "text": [
      "('Customer',)\n",
      "('Feedback',)\n",
      "('Cargo_Location',)\n",
      "('Cargo_Detail',)\n",
      "('Payment',)\n",
      "('Admin_Message_Detail',)\n",
      "('Admin',)\n",
      "('Company',)\n",
      "('Customer_Message_Detail',)\n"
     ]
    }
   ],
   "source": [
    "# Özel - Oluşturulan tabloların listelenmesi\n",
    "cursor.execute(\"SELECT TABLE_NAME FROM INFORMATION_SCHEMA.TABLES WHERE TABLE_TYPE = 'BASE TABLE' AND TABLE_CATALOG='\"+_database+\"'\")\n",
    "for row in cursor:\n",
    "    print(row)"
   ]
  },
  {
   "cell_type": "code",
   "execution_count": 22,
   "metadata": {},
   "outputs": [],
   "source": [
    "#10 - Admin tablosuna veri ekleme\n",
    "cursor.execute(\"\"\"INSERT INTO cargo2.dbo.Admin\n",
    "(A_Name, A_Email, A_Number, A_Password)\n",
    "VALUES('insert_name', 'insert_email', 'insert_tel', 'insert_number');\n",
    "\"\"\")\n",
    "conn.commit()"
   ]
  },
  {
   "cell_type": "code",
   "execution_count": 23,
   "metadata": {},
   "outputs": [],
   "source": [
    "#11 - Admin_Message_Detail tablosuna veri ekleme\n",
    "cursor.execute(\"\"\"INSERT INTO cargo2.dbo.Admin_Message_Detail\n",
    "(A_M_Name, A_M_Type, A_M_Message)\n",
    "VALUES('insert_name', 'insert_type', 'insert_message');\n",
    "\"\"\")\n",
    "conn.commit()"
   ]
  },
  {
   "cell_type": "code",
   "execution_count": 24,
   "metadata": {},
   "outputs": [],
   "source": [
    "#12 - Cargo_Detail tablosuna veri ekleme\n",
    "cursor.execute(\"\"\"INSERT INTO cargo2.dbo.Cargo_Detail\n",
    "(Cargo_Product, Cargo_Detail)\n",
    "VALUES('insert_product', 'insert_detail');\n",
    "\"\"\")\n",
    "conn.commit()"
   ]
  },
  {
   "cell_type": "code",
   "execution_count": 25,
   "metadata": {},
   "outputs": [],
   "source": [
    "#13 - Cargo_Location tablosuna veri ekleme\n",
    "cursor.execute(\"\"\"INSERT INTO cargo2.dbo.Cargo_Location\n",
    "(CL_Location)\n",
    "VALUES('insert_location');\n",
    "\"\"\")\n",
    "conn.commit()"
   ]
  },
  {
   "cell_type": "code",
   "execution_count": 26,
   "metadata": {},
   "outputs": [],
   "source": [
    "#14 - Company tablosuna veri ekleme\n",
    "cursor.execute(\"\"\"INSERT INTO cargo2.dbo.Company\n",
    "(Company_Address, Company_Number, Company_Mail)\n",
    "VALUES('insert_address', 'insert_number', 'insert_mail');\n",
    "\"\"\")\n",
    "conn.commit()"
   ]
  },
  {
   "cell_type": "code",
   "execution_count": 27,
   "metadata": {},
   "outputs": [],
   "source": [
    "#15 - Customer tablosuna veri ekleme\n",
    "cursor.execute(\"\"\"INSERT INTO cargo2.dbo.Customer\n",
    "(F_ID, A_M_ID, C_Name, C_Address, C_Number, C_Email)\n",
    "VALUES(1, 1, 'insert_name', 'insert_address', 'insert_number', 'insert_email');\n",
    "\"\"\")\n",
    "conn.commit()"
   ]
  },
  {
   "cell_type": "code",
   "execution_count": 28,
   "metadata": {},
   "outputs": [],
   "source": [
    "#16 - Customer_Message_Detail tablosuna veri ekleme\n",
    "cursor.execute(\"\"\"INSERT INTO cargo2.dbo.Customer_Message_Detail\n",
    "(C_M_Name, C_M_Message)\n",
    "VALUES('insert_name', 'insert_message');\n",
    "\"\"\")\n",
    "conn.commit()"
   ]
  },
  {
   "cell_type": "code",
   "execution_count": 29,
   "metadata": {},
   "outputs": [],
   "source": [
    "#17 - Feedback tablosuna veri ekleme\n",
    "cursor.execute(\"\"\"INSERT INTO cargo2.dbo.Feedback\n",
    "(F_Name, F_EMail, F_Message)\n",
    "VALUES('insert_name', 'insert_email', 'insert_message');\n",
    "\"\"\")\n",
    "conn.commit()"
   ]
  },
  {
   "cell_type": "code",
   "execution_count": 30,
   "metadata": {},
   "outputs": [],
   "source": [
    "#18 - Payment tablosuna veri ekleme\n",
    "cursor.execute(\"\"\"INSERT INTO cargo2.dbo.Payment\n",
    "(C_ID, Payment_Type, Payment_Detail)\n",
    "VALUES(1, 'insert_type', 'insert_detail');\n",
    "\"\"\")\n",
    "conn.commit()"
   ]
  },
  {
   "cell_type": "code",
   "execution_count": 31,
   "metadata": {},
   "outputs": [],
   "source": [
    "#19 - Admin tablosundaki veriyi güncelleme\n",
    "cursor.execute(\"\"\"UPDATE cargo2.dbo.Admin\n",
    "SET A_Name='update_name', A_Email='update_email', A_Number='update_number', A_Password='update_password'\n",
    "WHERE A_ID=1;\n",
    "\"\"\")\n",
    "conn.commit()"
   ]
  },
  {
   "cell_type": "code",
   "execution_count": 32,
   "metadata": {},
   "outputs": [],
   "source": [
    "#20 - Admin_Message_Detail tablosundaki veriyi güncelleme\n",
    "cursor.execute(\"\"\"UPDATE cargo2.dbo.Admin_Message_Detail\n",
    "SET A_M_Name='update_name', A_M_Type='update_type', A_M_Message='update_message'\n",
    "WHERE A_M_ID=1;\n",
    "\"\"\")\n",
    "conn.commit()"
   ]
  },
  {
   "cell_type": "code",
   "execution_count": 33,
   "metadata": {},
   "outputs": [],
   "source": [
    "#21 - Cargo_Detail tablosundaki veriyi güncelleme\n",
    "cursor.execute(\"\"\"UPDATE cargo2.dbo.Cargo_Detail\n",
    "SET Cargo_Product='update_product', Cargo_Detail='update_detail'\n",
    "WHERE Cargo_ID=1;\n",
    "\"\"\")\n",
    "conn.commit()"
   ]
  },
  {
   "cell_type": "code",
   "execution_count": 34,
   "metadata": {},
   "outputs": [],
   "source": [
    "#22 - Cargo_Location tablosundaki veriyi güncelleme\n",
    "cursor.execute(\"\"\"UPDATE cargo2.dbo.Cargo_Location\n",
    "SET CL_Location='update_location'\n",
    "WHERE CL_ID=1;\n",
    "\"\"\")\n",
    "conn.commit()"
   ]
  },
  {
   "cell_type": "code",
   "execution_count": 35,
   "metadata": {},
   "outputs": [],
   "source": [
    "#23 - Company tablosundaki veriyi güncelleme\n",
    "cursor.execute(\"\"\"UPDATE cargo2.dbo.Company\n",
    "SET Company_Address='update_address', Company_Number='update_number', Company_Mail='update_mail'\n",
    "WHERE Company_ID=1;\n",
    "\"\"\")\n",
    "conn.commit()"
   ]
  },
  {
   "cell_type": "code",
   "execution_count": 36,
   "metadata": {},
   "outputs": [],
   "source": [
    "#24 - Customer tablosundaki veriyi güncelleme\n",
    "cursor.execute(\"\"\"UPDATE cargo2.dbo.Customer\n",
    "SET F_ID=1, A_M_ID=1, C_Name='update_name', C_Address='update_address', C_Number='update_number', C_Email='update_email'\n",
    "WHERE C_ID=1;\n",
    "\"\"\")\n",
    "conn.commit()"
   ]
  },
  {
   "cell_type": "code",
   "execution_count": 37,
   "metadata": {},
   "outputs": [],
   "source": [
    "#25 - Customer_Message_Detail tablosundaki veriyi güncelleme\n",
    "cursor.execute(\"\"\"UPDATE cargo2.dbo.Customer_Message_Detail\n",
    "SET C_M_Name='update_name', C_M_Message='update_message'\n",
    "WHERE C_M_ID=1;\n",
    "\"\"\")\n",
    "conn.commit()"
   ]
  },
  {
   "cell_type": "code",
   "execution_count": 38,
   "metadata": {},
   "outputs": [],
   "source": [
    "#26 - Feedback tablosundaki veriyi güncelleme\n",
    "cursor.execute(\"\"\"UPDATE cargo2.dbo.Feedback\n",
    "SET F_Name='update_name', F_EMail='update_email', F_Message='update_message'\n",
    "WHERE F_ID=1;\n",
    "\"\"\")\n",
    "conn.commit()"
   ]
  },
  {
   "cell_type": "code",
   "execution_count": 39,
   "metadata": {},
   "outputs": [],
   "source": [
    "#27 - Payment tablosundaki veriyi güncelleme\n",
    "cursor.execute(\"\"\"UPDATE cargo2.dbo.Payment\n",
    "SET C_ID=1, Payment_Type='update_type', Payment_Detail='update_detail'\n",
    "WHERE P_ID=1;\n",
    "\"\"\")\n",
    "conn.commit()"
   ]
  },
  {
   "cell_type": "code",
   "execution_count": 40,
   "metadata": {},
   "outputs": [
    {
     "name": "stdout",
     "output_type": "stream",
     "text": [
      "(1, 'update_name', 'update_email', 'update_number', 'update_password')\n"
     ]
    }
   ],
   "source": [
    "#28 - Admin tablosundaki verileri listeleme\n",
    "cursor.execute(\"\"\"SELECT A_ID, A_Name, A_Email, A_Number, A_Password\n",
    "FROM cargo2.dbo.Admin;\n",
    "\"\"\")\n",
    "for row in cursor:\n",
    "    print(row)"
   ]
  },
  {
   "cell_type": "code",
   "execution_count": 41,
   "metadata": {},
   "outputs": [
    {
     "name": "stdout",
     "output_type": "stream",
     "text": [
      "(1, 'update_name', 'update_type', 'update_message')\n"
     ]
    }
   ],
   "source": [
    "#29 - Admin_Message_Detail tablosundaki verileri listeleme\n",
    "cursor.execute(\"\"\"SELECT A_M_ID, A_M_Name, A_M_Type, A_M_Message\n",
    "FROM cargo2.dbo.Admin_Message_Detail;\n",
    "\"\"\")\n",
    "for row in cursor:\n",
    "    print(row)"
   ]
  },
  {
   "cell_type": "code",
   "execution_count": 42,
   "metadata": {},
   "outputs": [
    {
     "name": "stdout",
     "output_type": "stream",
     "text": [
      "(1, 'update_product', 'update_detail')\n"
     ]
    }
   ],
   "source": [
    "#30 - Cargo_Detail tablosundaki verileri listeleme\n",
    "cursor.execute(\"\"\"SELECT Cargo_ID, Cargo_Product, Cargo_Detail\n",
    "FROM cargo2.dbo.Cargo_Detail;\n",
    "\"\"\")\n",
    "for row in cursor:\n",
    "    print(row)"
   ]
  },
  {
   "cell_type": "code",
   "execution_count": 43,
   "metadata": {},
   "outputs": [
    {
     "name": "stdout",
     "output_type": "stream",
     "text": [
      "(1, 'update_location')\n"
     ]
    }
   ],
   "source": [
    "#31 - Cargo_Location tablosundaki verileri listeleme\n",
    "cursor.execute(\"\"\"SELECT CL_ID, CL_Location\n",
    "FROM cargo2.dbo.Cargo_Location;\n",
    "\"\"\")\n",
    "for row in cursor:\n",
    "    print(row)"
   ]
  },
  {
   "cell_type": "code",
   "execution_count": 44,
   "metadata": {},
   "outputs": [
    {
     "name": "stdout",
     "output_type": "stream",
     "text": [
      "(1, 'update_address', 'update_number', 'update_mail')\n"
     ]
    }
   ],
   "source": [
    "#32 - Company tablosundaki verileri listeleme\n",
    "cursor.execute(\"\"\"SELECT Company_ID, Company_Address, Company_Number, Company_Mail\n",
    "FROM cargo2.dbo.Company;\n",
    "\"\"\")\n",
    "for row in cursor:\n",
    "    print(row)"
   ]
  },
  {
   "cell_type": "code",
   "execution_count": 45,
   "metadata": {},
   "outputs": [
    {
     "name": "stdout",
     "output_type": "stream",
     "text": [
      "(1, 1, 1, 'update_name', 'update_address', 'update_number', 'update_email')\n"
     ]
    }
   ],
   "source": [
    "#33 - Customer tablosundaki verileri listeleme\n",
    "cursor.execute(\"\"\"SELECT C_ID, F_ID, A_M_ID, C_Name, C_Address, C_Number, C_Email\n",
    "FROM cargo2.dbo.Customer;\n",
    "\"\"\")\n",
    "for row in cursor:\n",
    "    print(row)"
   ]
  },
  {
   "cell_type": "code",
   "execution_count": 46,
   "metadata": {},
   "outputs": [
    {
     "name": "stdout",
     "output_type": "stream",
     "text": [
      "(1, 'update_name', 'update_message')\n"
     ]
    }
   ],
   "source": [
    "#34 - Customer_Message_Detail tablosundaki verileri listeleme\n",
    "cursor.execute(\"\"\"SELECT C_M_ID, C_M_Name, C_M_Message\n",
    "FROM cargo2.dbo.Customer_Message_Detail;\n",
    "\"\"\")\n",
    "for row in cursor:\n",
    "    print(row)"
   ]
  },
  {
   "cell_type": "code",
   "execution_count": 47,
   "metadata": {},
   "outputs": [
    {
     "name": "stdout",
     "output_type": "stream",
     "text": [
      "(1, 'update_name', 'update_email', 'update_message')\n"
     ]
    }
   ],
   "source": [
    "#35 - Feedback tablosundaki verileri listeleme\n",
    "cursor.execute(\"\"\"SELECT F_ID, F_Name, F_EMail, F_Message\n",
    "FROM cargo2.dbo.Feedback;\n",
    "\"\"\")\n",
    "for row in cursor:\n",
    "    print(row)"
   ]
  },
  {
   "cell_type": "code",
   "execution_count": 48,
   "metadata": {},
   "outputs": [
    {
     "name": "stdout",
     "output_type": "stream",
     "text": [
      "(1, 1, 'update_type', 'update_detail')\n"
     ]
    }
   ],
   "source": [
    "#36 - Payment tablosundaki verileri listeleme\n",
    "cursor.execute(\"\"\"SELECT P_ID, C_ID, Payment_Type, Payment_Detail\n",
    "FROM cargo2.dbo.Payment;\n",
    "\"\"\")\n",
    "for row in cursor:\n",
    "    print(row)"
   ]
  },
  {
   "cell_type": "code",
   "execution_count": null,
   "metadata": {},
   "outputs": [],
   "source": [
    "#37 - Admin tablosundan veri silme\n",
    "cursor.execute(\"\"\"DELETE FROM cargo2.dbo.Admin\n",
    "WHERE A_ID=1;\n",
    "\"\"\")\n",
    "conn.commit()"
   ]
  },
  {
   "cell_type": "code",
   "execution_count": null,
   "metadata": {},
   "outputs": [],
   "source": [
    "#38 - Admin_Message_Detail tablosundan veri silme\n",
    "cursor.execute(\"\"\"DELETE FROM cargo2.dbo.Admin_Message_Detail\n",
    "WHERE A_M_ID=1;\n",
    "\"\"\")\n",
    "conn.commit()"
   ]
  },
  {
   "cell_type": "code",
   "execution_count": null,
   "metadata": {},
   "outputs": [],
   "source": [
    "#39 - Cargo_Detail tablosundan veri silme\n",
    "cursor.execute(\"\"\"DELETE FROM cargo2.dbo.Cargo_Detail\n",
    "WHERE Cargo_ID=1;\n",
    "\"\"\")\n",
    "conn.commit()"
   ]
  },
  {
   "cell_type": "code",
   "execution_count": null,
   "metadata": {},
   "outputs": [],
   "source": [
    "#40 - Cargo_Location tablosundan veri silme\n",
    "cursor.execute(\"\"\"DELETE FROM cargo2.dbo.Cargo_Location\n",
    "WHERE CL_ID=1;\n",
    "\"\"\")\n",
    "conn.commit()"
   ]
  },
  {
   "cell_type": "code",
   "execution_count": null,
   "metadata": {},
   "outputs": [],
   "source": [
    "#41 - Company tablosundan veri silme\n",
    "cursor.execute(\"\"\"DELETE FROM cargo2.dbo.Company\n",
    "WHERE Company_ID=1;\n",
    "\"\"\")\n",
    "conn.commit()"
   ]
  },
  {
   "cell_type": "code",
   "execution_count": null,
   "metadata": {},
   "outputs": [],
   "source": [
    "#42 - Customer tablosundan veri silme\n",
    "cursor.execute(\"\"\"DELETE FROM cargo2.dbo.Customer\n",
    "WHERE C_ID=1;\n",
    "\"\"\")\n",
    "conn.commit()"
   ]
  },
  {
   "cell_type": "code",
   "execution_count": null,
   "metadata": {},
   "outputs": [],
   "source": [
    "#43 - Customer_Message_Detail tablosundan veri silme\n",
    "cursor.execute(\"\"\"DELETE FROM cargo2.dbo.Customer_Message_Detail\n",
    "WHERE C_M_ID=1;\n",
    "\"\"\")\n",
    "conn.commit()"
   ]
  },
  {
   "cell_type": "code",
   "execution_count": null,
   "metadata": {},
   "outputs": [],
   "source": [
    "#44 - Feedback tablosundan veri silme\n",
    "cursor.execute(\"\"\"DELETE FROM cargo2.dbo.Feedback\n",
    "WHERE F_ID=1;\n",
    "\"\"\")\n",
    "conn.commit()"
   ]
  },
  {
   "cell_type": "code",
   "execution_count": null,
   "metadata": {},
   "outputs": [],
   "source": [
    "#45 - Payment tablosundan veri silme\n",
    "cursor.execute(\"\"\"DELETE FROM cargo2.dbo.Payment\n",
    "WHERE P_ID=1;\n",
    "\"\"\")\n",
    "conn.commit()"
   ]
  },
  {
   "cell_type": "code",
   "execution_count": null,
   "metadata": {},
   "outputs": [],
   "source": [
    "#46 - Admin tablosundan veri silme\n",
    "cursor.execute(\"\"\"DELETE FROM cargo2.dbo.Admin\n",
    "WHERE A_ID=1;\n",
    "\"\"\")\n",
    "conn.commit()"
   ]
  },
  {
   "cell_type": "code",
   "execution_count": null,
   "metadata": {},
   "outputs": [],
   "source": [
    "#49 - Admin_Message_Detail tablosunun silinmesi\n",
    "cursor.execute(\"\"\"DROP TABLE cargo2.dbo.Admin_Message_Detail\n",
    "\"\"\")\n",
    "conn.commit()"
   ]
  },
  {
   "cell_type": "code",
   "execution_count": null,
   "metadata": {},
   "outputs": [],
   "source": [
    "#50 - Cargo_Detail tablosunun silinmesi\n",
    "cursor.execute(\"\"\"DROP TABLE cargo2.dbo.Cargo_Detail\n",
    "\"\"\")\n",
    "conn.commit()"
   ]
  },
  {
   "cell_type": "code",
   "execution_count": null,
   "metadata": {},
   "outputs": [],
   "source": [
    "#51 - Cargo_Location tablosunun silinmesi\n",
    "cursor.execute(\"\"\"DROP TABLE cargo2.dbo.Cargo_Location\n",
    "\"\"\")\n",
    "conn.commit()"
   ]
  },
  {
   "cell_type": "code",
   "execution_count": null,
   "metadata": {},
   "outputs": [],
   "source": [
    "#52 - Company tablosunun silinmesi\n",
    "cursor.execute(\"\"\"DROP TABLE cargo2.dbo.Company\n",
    "\"\"\")\n",
    "conn.commit()"
   ]
  },
  {
   "cell_type": "code",
   "execution_count": null,
   "metadata": {},
   "outputs": [],
   "source": [
    "#53 - Customer_Message_Detail tablosunun silinmesi\n",
    "cursor.execute(\"\"\"DROP TABLE cargo2.dbo.Customer_Message_Detail\n",
    "\"\"\")\n",
    "conn.commit()"
   ]
  },
  {
   "cell_type": "code",
   "execution_count": null,
   "metadata": {},
   "outputs": [],
   "source": [
    "#54 - Feedback tablosunun silinmesi\n",
    "cursor.execute(\"\"\"DROP TABLE cargo2.dbo.Feedback\n",
    "\"\"\")\n",
    "conn.commit()"
   ]
  },
  {
   "cell_type": "code",
   "execution_count": null,
   "metadata": {},
   "outputs": [],
   "source": [
    "#55 - Payment tablosunun silinmesi\n",
    "cursor.execute(\"\"\"DROP TABLE cargo2.dbo.Payment\n",
    "\"\"\")\n",
    "conn.commit()"
   ]
  },
  {
   "cell_type": "code",
   "execution_count": null,
   "metadata": {},
   "outputs": [],
   "source": [
    "#56 - Customer tablosunun silinmesi\n",
    "cursor.execute(\"\"\"DROP TABLE cargo2.dbo.Customer\n",
    "\"\"\")\n",
    "conn.commit()"
   ]
  },
  {
   "cell_type": "code",
   "execution_count": null,
   "metadata": {},
   "outputs": [],
   "source": [
    "#57 - Admin tablosunun silinmesi\n",
    "cursor.execute(\"\"\"DROP TABLE cargo2.dbo.Admin\n",
    "\"\"\")\n",
    "conn.commit()"
   ]
  },
  {
   "cell_type": "code",
   "execution_count": null,
   "metadata": {},
   "outputs": [],
   "source": [
    "#58 - Customer tablosu oluşturma ve ardından metin içeren kolonların tüm harflerini büyütme\n",
    "cursor.execute(\"\"\"CREATE TABLE [dbo].[Customer](\n",
    "\t[C_ID] [int] IDENTITY(1,1) NOT NULL,\n",
    "\t[F_ID] [int] NULL,\n",
    "\t[A_M_ID] [int] NULL,\n",
    "\t[C_Name] [varchar](50) NULL,\n",
    "\t[C_Address] [text] NULL,\n",
    "\t[C_Number] [varchar](50) NULL,\n",
    "\t[C_Email] [varchar](50) NULL,\n",
    " CONSTRAINT [PK_Customer] PRIMARY KEY CLUSTERED \n",
    "(\n",
    "\t[C_ID] ASC\n",
    ")WITH (PAD_INDEX = OFF, STATISTICS_NORECOMPUTE = OFF, IGNORE_DUP_KEY = OFF, ALLOW_ROW_LOCKS = ON, ALLOW_PAGE_LOCKS = ON) ON [PRIMARY]\n",
    ") ON [PRIMARY] TEXTIMAGE_ON [PRIMARY]\n",
    "\"\"\")\n",
    "conn.commit()\n",
    "\n",
    "cursor.execute(\"\"\"EXECUTE sp_rename N'dbo.Customer.C_Name', N'Tmp_C_NAME_1', 'COLUMN' \n",
    "EXECUTE sp_rename N'dbo.Customer.C_Address', N'Tmp_C_ADDRESS_2', 'COLUMN' \n",
    "EXECUTE sp_rename N'dbo.Customer.C_Number', N'Tmp_C_NUMBER_3', 'COLUMN' \n",
    "EXECUTE sp_rename N'dbo.Customer.C_Email', N'Tmp_C_EMAIL_4', 'COLUMN' \n",
    "EXECUTE sp_rename N'dbo.Customer.Tmp_C_NAME_1', N'C_NAME', 'COLUMN' \n",
    "EXECUTE sp_rename N'dbo.Customer.Tmp_C_ADDRESS_2', N'C_ADDRESS', 'COLUMN' \n",
    "EXECUTE sp_rename N'dbo.Customer.Tmp_C_NUMBER_3', N'C_NUMBER', 'COLUMN' \n",
    "EXECUTE sp_rename N'dbo.Customer.Tmp_C_EMAIL_4', N'C_EMAIL', 'COLUMN' \n",
    "ALTER TABLE dbo.Customer SET (LOCK_ESCALATION = TABLE)\n",
    "\"\"\")\n",
    "conn.commit()"
   ]
  },
  {
   "cell_type": "code",
   "execution_count": null,
   "metadata": {},
   "outputs": [],
   "source": []
  }
 ],
 "metadata": {
  "kernelspec": {
   "display_name": "Python 3",
   "language": "python",
   "name": "python3"
  },
  "language_info": {
   "codemirror_mode": {
    "name": "ipython",
    "version": 3
   },
   "file_extension": ".py",
   "mimetype": "text/x-python",
   "name": "python",
   "nbconvert_exporter": "python",
   "pygments_lexer": "ipython3",
   "version": "3.8.5"
  }
 },
 "nbformat": 4,
 "nbformat_minor": 4
}
